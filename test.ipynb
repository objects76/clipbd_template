{
 "cells": [
  {
   "cell_type": "code",
   "execution_count": 2,
   "metadata": {},
   "outputs": [
    {
     "data": {
      "text/plain": [
       "('jina_de01014707b44f2b8da84917e486c09e_y-mapgpzKFuLA9iutoemgnK1eRw',\n",
       " 'jina_7486fd840bda4ea9b428afbaab1d62706gksDo-ypWXbUO7QHwzukzeBujN_')"
      ]
     },
     "execution_count": 2,
     "metadata": {},
     "output_type": "execute_result"
    }
   ],
   "source": [
    "%reload_ext autoreload\n",
    "%autoreload 2\n",
    "if '__file__' not in globals():\n",
    "    __file__, __name__ = globals()['__vsc_ipynb_file__'], '__ipynb__'\n",
    "    import types, sys; sys.modules['__ipynb__'] = types.ModuleType('__ipynb__')\n",
    "\n",
    "import sys, os\n",
    "if os.path.abspath('.') not in sys.path: sys.path.append(os.path.abspath('.'))\n",
    "\n",
    "from pathlib import Path\n",
    "from glob import glob\n",
    "\n",
    "class text_color:\n",
    "    def __init__(self, *attrs): self.clrs = list(set(attrs))\n",
    "    def __ror__(self, obj): return f'\\33[{\";\".join(map(str, self.clrs))}m{str(obj)}\\33[0m'\n",
    "    @property\n",
    "    def bg(self): return text_color( next((c+70 for c in self.clrs if 30 <= c < 38), self.clrs[0]))\n",
    "\n",
    "bold, italic, underline, strike = [1,3,4,9]\n",
    "black,red,green,yellow,blue,magenta,cyan,white = [text_color(clr) for clr in range(30,38)]\n",
    "\n",
    "import inspect\n",
    "class cout:\n",
    "    def __ror__(self, obj): print(f'[{inspect.stack()[1].lineno}]'|green, obj)\n",
    "    def __call__(self, *args, **kwds): print(f'[{inspect.stack()[1].lineno}]'|green, *args, **kwds)\n",
    "out = cout()\n",
    "\n",
    "from dotenv import load_dotenv\n",
    "load_dotenv()\n",
    "\n",
    "jjkim_key = os.getenv(\"JINA_API_JJKIM\")\n",
    "obj76_key = os.getenv(\"JINA_API_OBJECTS76\")\n",
    "\n",
    "jjkim_key, obj76_key"
   ]
  },
  {
   "cell_type": "code",
   "execution_count": null,
   "metadata": {},
   "outputs": [],
   "source": [
    "import yaml\n",
    "import subprocess\n",
    "\n",
    "def get_template(template_path):\n",
    "    template_yaml = Path(template_path).expanduser()\n",
    "    if not template_yaml.exists():\n",
    "        raise ValueError(f'not found: {template_yaml}')\n"
   ]
  },
  {
   "cell_type": "code",
   "execution_count": null,
   "metadata": {},
   "outputs": [],
   "source": [
    "\n",
    "    config = yaml.safe_load(template_yaml.read_text(encoding='utf-8')) or {}\n",
    "    templates = config.get('TEMPLATES', {})\n",
    "    if not isinstance(templates, dict) or not templates:\n",
    "        raise ValueError('no templates')\n",
    "\n",
    "    # ~/.config/rofi/\n",
    "    cmd = [\n",
    "        'rofi', '-dmenu', '-no-custom',\n",
    "        '-monitor', '-4', # 4:active window\n",
    "        '-theme-str', 'window {width: 10%;} entry { enabled: false; }',\n",
    "        '-p', 'Choose template:',\n",
    "        '-dpi', '192',\n",
    "        '-lines', f'{len(templates)}',\n",
    "        '-no-fixed-num-lines',\n",
    "    ]\n",
    "\n",
    "    rofi = subprocess.run(\n",
    "        cmd,\n",
    "        input='\\n'.join(templates.keys()),\n",
    "        text=True,\n",
    "        capture_output=True,\n",
    "    )\n",
    "\n",
    "    choice = (rofi.stdout or '').strip()\n",
    "    if not choice or choice not in templates:\n",
    "        return \"\", \"\"\n",
    "    return choice, templates[choice]\n",
    "\n",
    "\n",
    "get_template(\"~/.config/rofi/template.yaml\")"
   ]
  },
  {
   "cell_type": "code",
   "execution_count": null,
   "metadata": {},
   "outputs": [],
   "source": [
    "\n",
    "from dotenv import load_dotenv\n",
    "load_dotenv(os.path.expanduser(\"~/.config/rofi/.env\"))\n",
    "jjkim_key = os.getenv(\"JINA_API_KEY_JJKIM\")\n",
    "obj76_key = os.getenv(\"JINA_API_KEY_OBJ76\")\n",
    "jjkim_key, obj76_key,"
   ]
  }
 ],
 "metadata": {
  "kernelspec": {
   "display_name": ".venv",
   "language": "python",
   "name": "python3"
  },
  "language_info": {
   "codemirror_mode": {
    "name": "ipython",
    "version": 3
   },
   "file_extension": ".py",
   "mimetype": "text/x-python",
   "name": "python",
   "nbconvert_exporter": "python",
   "pygments_lexer": "ipython3",
   "version": "3.13.3"
  }
 },
 "nbformat": 4,
 "nbformat_minor": 2
}
