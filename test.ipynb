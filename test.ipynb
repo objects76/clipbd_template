{
 "cells": [
  {
   "cell_type": "code",
   "execution_count": 1,
   "metadata": {},
   "outputs": [],
   "source": [
    "%reload_ext autoreload\n",
    "%autoreload 2\n",
    "if '__file__' not in globals():\n",
    "    __file__, __name__ = globals()['__vsc_ipynb_file__'], '__ipynb__'\n",
    "    import types, sys; sys.modules['__ipynb__'] = types.ModuleType('__ipynb__')\n",
    "\n",
    "import sys, os\n",
    "if os.path.abspath('.') not in sys.path: sys.path.append(os.path.abspath('.'))\n",
    "\n",
    "from pathlib import Path\n",
    "from glob import glob\n",
    "\n",
    "class text_color:\n",
    "    def __init__(self, *attrs): self.clrs = list(set(attrs))\n",
    "    def __ror__(self, obj): return f'\\33[{\";\".join(map(str, self.clrs))}m{str(obj)}\\33[0m'\n",
    "    @property\n",
    "    def bg(self): return text_color( next((c+70 for c in self.clrs if 30 <= c < 38), self.clrs[0]))\n",
    "\n",
    "bold, italic, underline, strike = [1,3,4,9]\n",
    "black,red,green,yellow,blue,magenta,cyan,white = [text_color(clr) for clr in range(30,38)]\n",
    "\n",
    "import inspect\n",
    "class cout:\n",
    "    def __ror__(self, obj): print(f'[{inspect.stack()[1].lineno}]'|green, obj)\n",
    "    def __call__(self, *args, **kwds): print(f'[{inspect.stack()[1].lineno}]'|green, *args, **kwds)\n",
    "out = cout()\n",
    "\n",
    "from dotenv import load_dotenv\n",
    "load_dotenv()\n",
    "\n",
    "jjkim_key = os.getenv(\"JINA_API_JJKIM\")\n",
    "obj76_key = os.getenv(\"JINA_API_OBJECTS76\")\n",
    "\n",
    "from rich import print as pprint\n",
    "from IPython.display import HTML, Markdown"
   ]
  },
  {
   "cell_type": "code",
   "execution_count": null,
   "metadata": {},
   "outputs": [
    {
     "name": "stdout",
     "output_type": "stream",
     "text": [
      "Browser launched with PID: 3193431\n",
      "Opening in existing browser session.\n",
      "No window found for PID: 3193431\n"
     ]
    },
    {
     "name": "stderr",
     "output_type": "stream",
     "text": [
      "[3186363:3186363:0826/164033.497792:ERROR:mojo/public/cpp/bindings/lib/interface_endpoint_client.cc:732] Message 0 rejected by interface blink.mojom.WidgetHost\n",
      "[3186363:3186363:0826/164421.444490:ERROR:mojo/public/cpp/bindings/lib/interface_endpoint_client.cc:732] Message 0 rejected by interface blink.mojom.WidgetHost\n",
      "[3186363:3186363:0826/164533.121978:ERROR:mojo/public/cpp/bindings/lib/interface_endpoint_client.cc:732] Message 0 rejected by interface blink.mojom.WidgetHost\n",
      "[3186363:3186363:0826/164657.345883:ERROR:mojo/public/cpp/bindings/lib/interface_endpoint_client.cc:732] Message 0 rejected by interface blink.mojom.WidgetHost\n",
      "[3246748:1:0826/165125.603388:ERROR:components/edge_picture_in_picture/content/renderer/video_hover_overlay_agent.cc:49] Connection to VideoHoverOverlayDriver dropped\n",
      "[3186363:3186363:0826/165305.575131:ERROR:mojo/public/cpp/bindings/lib/interface_endpoint_client.cc:732] Message 0 rejected by interface blink.mojom.WidgetHost\n",
      "[3186363:3186363:0826/165426.413225:ERROR:ui/gfx/x/atom_cache.cc:233] Add chromium/x-window-drag to kAtomsToCache\n",
      "[3186363:3186363:0826/165453.485791:ERROR:components/dbus/xdg/request.cc:165] Request cancelled by user.\n",
      "[3186363:3186363:0826/165538.036723:ERROR:ui/gfx/x/atom_cache.cc:233] Add chromium/from-privileged to kAtomsToCache\n",
      "[3186411:3186417:0826/165704.214989:ERROR:services/network/restricted_cookie_manager.cc:1158] site_for_cookies from renderer='SiteForCookies: {site=null; schemefully_same=false}' from browser='SiteForCookies: {site=https://perplexity.ai; schemefully_same=true}';\n",
      "[3186411:3186417:0826/165704.215042:ERROR:services/network/restricted_cookie_manager.cc:1167] top_frame_origin from renderer='null [internally: (7DD288026696AA3F9E304F826A493D35) anonymous]' from browser='https://www.perplexity.ai';\n",
      "[3186411:3186417:0826/165934.601437:ERROR:services/network/restricted_cookie_manager.cc:1158] site_for_cookies from renderer='SiteForCookies: {site=null; schemefully_same=false}' from browser='SiteForCookies: {site=https://perplexity.ai; schemefully_same=true}';\n",
      "[3186411:3186417:0826/165934.601447:ERROR:services/network/restricted_cookie_manager.cc:1167] top_frame_origin from renderer='null [internally: (3865DF0323326563E7BD74F6F67BCF2B) anonymous]' from browser='https://www.perplexity.ai';\n",
      "[3186411:3186417:0826/170034.601342:ERROR:services/network/restricted_cookie_manager.cc:1158] site_for_cookies from renderer='SiteForCookies: {site=null; schemefully_same=false}' from browser='SiteForCookies: {site=https://perplexity.ai; schemefully_same=true}';\n",
      "[3186411:3186417:0826/170034.601352:ERROR:services/network/restricted_cookie_manager.cc:1167] top_frame_origin from renderer='null [internally: (41C60D828D7F881E799090D94398BFBA) anonymous]' from browser='https://www.perplexity.ai';\n",
      "[3186363:3186363:0826/170146.152202:ERROR:mojo/public/cpp/bindings/lib/interface_endpoint_client.cc:732] Message 0 rejected by interface blink.mojom.WidgetHost\n",
      "[3186411:3186417:0826/170232.345687:ERROR:services/network/restricted_cookie_manager.cc:1158] site_for_cookies from renderer='SiteForCookies: {site=null; schemefully_same=false}' from browser='SiteForCookies: {site=https://perplexity.ai; schemefully_same=true}';\n",
      "[3186411:3186417:0826/170232.345697:ERROR:services/network/restricted_cookie_manager.cc:1167] top_frame_origin from renderer='null [internally: (90803FF183DF1BC7BAA8EDD8A1B51D6F) anonymous]' from browser='https://www.perplexity.ai';\n",
      "[3186411:3186417:0826/170332.345775:ERROR:services/network/restricted_cookie_manager.cc:1158] site_for_cookies from renderer='SiteForCookies: {site=null; schemefully_same=false}' from browser='SiteForCookies: {site=https://perplexity.ai; schemefully_same=true}';\n",
      "[3186411:3186417:0826/170332.345785:ERROR:services/network/restricted_cookie_manager.cc:1167] top_frame_origin from renderer='null [internally: (BE2270418ABB50F328A4436A4B996067) anonymous]' from browser='https://www.perplexity.ai';\n",
      "[3186411:3186417:0826/170419.348435:ERROR:services/network/restricted_cookie_manager.cc:1158] site_for_cookies from renderer='SiteForCookies: {site=null; schemefully_same=false}' from browser='SiteForCookies: {site=https://perplexity.ai; schemefully_same=true}';\n",
      "[3186411:3186417:0826/170419.348452:ERROR:services/network/restricted_cookie_manager.cc:1167] top_frame_origin from renderer='null [internally: (1B7935729751F77C24AE615F4FE6BAB3) anonymous]' from browser='https://www.perplexity.ai';\n",
      "[3186411:3186417:0826/170519.352006:ERROR:services/network/restricted_cookie_manager.cc:1158] site_for_cookies from renderer='SiteForCookies: {site=null; schemefully_same=false}' from browser='SiteForCookies: {site=https://perplexity.ai; schemefully_same=true}';\n",
      "[3186411:3186417:0826/170519.352019:ERROR:services/network/restricted_cookie_manager.cc:1167] top_frame_origin from renderer='null [internally: (31DA9E3A7652438233B66B5189F4569D) anonymous]' from browser='https://www.perplexity.ai';\n",
      "[3186411:3186417:0826/170619.349809:ERROR:services/network/restricted_cookie_manager.cc:1158] site_for_cookies from renderer='SiteForCookies: {site=null; schemefully_same=false}' from browser='SiteForCookies: {site=https://perplexity.ai; schemefully_same=true}';\n",
      "[3186411:3186417:0826/170619.349827:ERROR:services/network/restricted_cookie_manager.cc:1167] top_frame_origin from renderer='null [internally: (44697F086F9E7E5EA96AB42E41A6A287) anonymous]' from browser='https://www.perplexity.ai';\n",
      "[3186411:3186417:0826/170719.347529:ERROR:services/network/restricted_cookie_manager.cc:1158] site_for_cookies from renderer='SiteForCookies: {site=null; schemefully_same=false}' from browser='SiteForCookies: {site=https://perplexity.ai; schemefully_same=true}';\n",
      "[3186411:3186417:0826/170719.347544:ERROR:services/network/restricted_cookie_manager.cc:1167] top_frame_origin from renderer='null [internally: (8039B8491AEC4733717F0583F2926A52) anonymous]' from browser='https://www.perplexity.ai';\n",
      "[3186411:3186417:0826/170819.349158:ERROR:services/network/restricted_cookie_manager.cc:1158] site_for_cookies from renderer='SiteForCookies: {site=null; schemefully_same=false}' from browser='SiteForCookies: {site=https://perplexity.ai; schemefully_same=true}';\n",
      "[3186411:3186417:0826/170819.349170:ERROR:services/network/restricted_cookie_manager.cc:1167] top_frame_origin from renderer='null [internally: (ED39797C469791D202F0D88110D70D70) anonymous]' from browser='https://www.perplexity.ai';\n",
      "[3186411:3186417:0826/170919.348509:ERROR:services/network/restricted_cookie_manager.cc:1158] site_for_cookies from renderer='SiteForCookies: {site=null; schemefully_same=false}' from browser='SiteForCookies: {site=https://perplexity.ai; schemefully_same=true}';\n",
      "[3186411:3186417:0826/170919.348522:ERROR:services/network/restricted_cookie_manager.cc:1167] top_frame_origin from renderer='null [internally: (127BF94AA2EDFC9A95A2FE28B4BBF80E) anonymous]' from browser='https://www.perplexity.ai';\n",
      "[3186411:3186417:0826/171019.348156:ERROR:services/network/restricted_cookie_manager.cc:1158] site_for_cookies from renderer='SiteForCookies: {site=null; schemefully_same=false}' from browser='SiteForCookies: {site=https://perplexity.ai; schemefully_same=true}';\n",
      "[3186411:3186417:0826/171019.348167:ERROR:services/network/restricted_cookie_manager.cc:1167] top_frame_origin from renderer='null [internally: (1931BA59B9C5AC5D40F7AF726285E90F) anonymous]' from browser='https://www.perplexity.ai';\n",
      "[3186411:3186417:0826/171119.348413:ERROR:services/network/restricted_cookie_manager.cc:1158] site_for_cookies from renderer='SiteForCookies: {site=null; schemefully_same=false}' from browser='SiteForCookies: {site=https://perplexity.ai; schemefully_same=true}';\n",
      "[3186411:3186417:0826/171119.348430:ERROR:services/network/restricted_cookie_manager.cc:1167] top_frame_origin from renderer='null [internally: (0E423E2FFB6686EBD39D9B226EC3407E) anonymous]' from browser='https://www.perplexity.ai';\n",
      "[3186363:3186363:0826/171200.016664:ERROR:chrome/browser/ui/webui/settings/site_settings_helper.cc:589] 125 does not have a readable name.\n",
      "[3186363:3186363:0826/171200.019012:ERROR:chrome/browser/ui/webui/settings/site_settings_helper.cc:589] -1 does not have a readable name.\n",
      "[3186411:3186417:0826/171219.347591:ERROR:services/network/restricted_cookie_manager.cc:1158] site_for_cookies from renderer='SiteForCookies: {site=null; schemefully_same=false}' from browser='SiteForCookies: {site=https://perplexity.ai; schemefully_same=true}';\n",
      "[3186411:3186417:0826/171219.347605:ERROR:services/network/restricted_cookie_manager.cc:1167] top_frame_origin from renderer='null [internally: (F8A72E9CB9A4E131EC733A00D82278C8) anonymous]' from browser='https://www.perplexity.ai';\n",
      "[3186411:3186417:0826/171302.410010:ERROR:services/network/restricted_cookie_manager.cc:1158] site_for_cookies from renderer='SiteForCookies: {site=null; schemefully_same=false}' from browser='SiteForCookies: {site=https://perplexity.ai; schemefully_same=true}';\n",
      "[3186411:3186417:0826/171302.410020:ERROR:services/network/restricted_cookie_manager.cc:1167] top_frame_origin from renderer='null [internally: (A1D7DF44CA2AE4F783FCB3B2F3B3FD5B) anonymous]' from browser='https://www.perplexity.ai';\n",
      "[0826/171316.425913:ERROR:third_party/crashpad/crashpad/snapshot/elf/elf_dynamic_array_reader.h:64] tag not found\n",
      "[0826/171316.437469:WARNING:third_party/crashpad/crashpad/snapshot/linux/process_reader_linux.cc:146] no stack mapping\n"
     ]
    }
   ],
   "source": [
    "import shlex\n",
    "import subprocess\n",
    "import time\n",
    "\n",
    "def run_web_llm(profile: str = \"Default\", url: str = \"https://www.chatgpt.com\") -> None:\n",
    "    \"\"\"Launch browser with sanitized inputs and wait for window activation.\n",
    "\n",
    "    Args:\n",
    "        profile (str): Browser profile directory name\n",
    "        url (str): URL to open\n",
    "    \"\"\"\n",
    "    BROWSER = \"microsoft-edge-stable\"\n",
    "\n",
    "    # Sanitize inputs to prevent command injection\n",
    "    safe_user = shlex.quote(profile)\n",
    "    safe_url = shlex.quote(url)\n",
    "\n",
    "    # Launch the browser\n",
    "    process = subprocess.Popen([\n",
    "        BROWSER,\n",
    "        f\"--profile-directory={safe_user}\",\n",
    "        \"--new-tab\",\n",
    "        safe_url\n",
    "    ])\n",
    "    pid = process.pid\n",
    "    print(f\"Browser launched with PID: {pid}\")\n",
    "\n",
    "    # Wait for browser to start and get window ID from PID\n",
    "    time.sleep(2)  # Give browser time to start\n",
    "\n",
    "    try:\n",
    "        # Get window ID associated with the PID\n",
    "        result = subprocess.run(['xdotool', 'search', '--pid', str(pid)],\n",
    "                              capture_output=True, text=True)\n",
    "        window_ids = result.stdout.strip().split('\\n')\n",
    "\n",
    "        if window_ids and window_ids[0]:\n",
    "            print(window_ids)\n",
    "            window_id = window_ids[0]\n",
    "            print(f\"Found window ID: {window_id} for PID: {pid}\")\n",
    "\n",
    "            # Activate and raise the window\n",
    "            subprocess.run(['xdotool', 'windowactivate', window_id], check=True)\n",
    "            subprocess.run(['xdotool', 'windowraise', window_id], check=True)\n",
    "            print(f\"Window activated and raised\")\n",
    "        else:\n",
    "            print(f\"No window found for PID: {pid}\")\n",
    "\n",
    "    except subprocess.CalledProcessError as e:\n",
    "        print(f\"Failed to get window ID for PID {pid}: {e}\")\n",
    "\n",
    "\n",
    "run_web_llm()"
   ]
  },
  {
   "cell_type": "code",
   "execution_count": 16,
   "metadata": {},
   "outputs": [
    {
     "name": "stdout",
     "output_type": "stream",
     "text": [
      "['54525953', '44040196', '54525955', '44040220']\n",
      "0 Edge window activated (ID: 54525953)\n",
      "1 Edge window activated (ID: 44040196)\n",
      "2 Edge window activated (ID: 54525955)\n",
      "3 Edge window activated (ID: 44040220)\n"
     ]
    },
    {
     "name": "stderr",
     "output_type": "stream",
     "text": [
      "XGetWindowProperty[_NET_WM_DESKTOP] failed (code=1)\n",
      "XGetWindowProperty[_NET_WM_DESKTOP] failed (code=1)\n"
     ]
    }
   ],
   "source": [
    "result = subprocess.run(['xdotool', 'search', '--name', '--class', 'microsoft-edge'],\n",
    "                                  capture_output=True, text=True)\n",
    "window_ids = result.stdout.strip().split('\\n')\n",
    "print(window_ids)\n",
    "window_ids = window_ids or []\n",
    "\n",
    "for i, window_id in enumerate(window_ids):\n",
    "    if not window_id: continue\n",
    "    # Activate and raise the window\n",
    "    subprocess.run(['xdotool', 'windowactivate', window_id], check=True)\n",
    "    subprocess.run(['xdotool', 'windowraise', window_id], check=True)\n",
    "    print(i, f\"Edge window activated (ID: {window_id})\")"
   ]
  },
  {
   "cell_type": "code",
   "execution_count": 3,
   "metadata": {},
   "outputs": [
    {
     "name": "stdout",
     "output_type": "stream",
     "text": [
      "Edge 창 활성화됨 (ID: 31460485)\n"
     ]
    },
    {
     "data": {
      "text/plain": [
       "True"
      ]
     },
     "execution_count": 3,
     "metadata": {},
     "output_type": "execute_result"
    }
   ],
   "source": [
    "\n",
    "import subprocess\n",
    "import time\n",
    "\n",
    "def get_edge_window():\n",
    "    \"\"\"Microsoft Edge 창을 찾고 활성화합니다.\"\"\"\n",
    "    try:\n",
    "        # Edge 프로세스 확인\n",
    "        result = subprocess.run(['pgrep', '-f', 'microsoft-edge'],\n",
    "                              capture_output=True, text=True)\n",
    "        if not result.stdout.strip():\n",
    "            print(\"Microsoft Edge가 실행되지 않았습니다.\")\n",
    "            return False\n",
    "\n",
    "        # Edge 창 ID 찾기\n",
    "        result = subprocess.run(['xdotool', 'search', '--name', '--class', 'microsoft-edge'],\n",
    "                              capture_output=True, text=True)\n",
    "        window_ids = result.stdout.strip().split('\\n')\n",
    "\n",
    "        if not window_ids or not window_ids[0]:\n",
    "            print(\"Edge 창을 찾을 수 없습니다.\")\n",
    "            return False\n",
    "\n",
    "        # 첫 번째 Edge 창 활성화\n",
    "        window_id = window_ids[0]\n",
    "        subprocess.run(['xdotool', 'windowactivate', window_id], check=True)\n",
    "        subprocess.run(['xdotool', 'windowraise', window_id], check=True)\n",
    "\n",
    "        print(f\"Edge 창 활성화됨 (ID: {window_id})\")\n",
    "        return True\n",
    "\n",
    "    except subprocess.CalledProcessError as e:\n",
    "        print(f\"창 활성화 실패: {e}\")\n",
    "        return False\n",
    "    except Exception as e:\n",
    "        print(f\"오류 발생: {e}\")\n",
    "        return False\n",
    "\n",
    "# Edge 창 활성화 실행\n",
    "get_edge_window()\n"
   ]
  },
  {
   "cell_type": "code",
   "execution_count": null,
   "metadata": {},
   "outputs": [],
   "source": []
  }
 ],
 "metadata": {
  "kernelspec": {
   "display_name": ".venv",
   "language": "python",
   "name": "python3"
  },
  "language_info": {
   "codemirror_mode": {
    "name": "ipython",
    "version": 3
   },
   "file_extension": ".py",
   "mimetype": "text/x-python",
   "name": "python",
   "nbconvert_exporter": "python",
   "pygments_lexer": "ipython3",
   "version": "3.13.3"
  }
 },
 "nbformat": 4,
 "nbformat_minor": 2
}
