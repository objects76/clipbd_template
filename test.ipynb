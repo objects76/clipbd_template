{
 "cells": [
  {
   "cell_type": "code",
   "execution_count": 27,
   "metadata": {},
   "outputs": [],
   "source": [
    "%reload_ext autoreload\n",
    "%autoreload 2\n",
    "if '__file__' not in globals():\n",
    "    __file__, __name__ = globals()['__vsc_ipynb_file__'], '__ipynb__'\n",
    "    import types, sys; sys.modules['__ipynb__'] = types.ModuleType('__ipynb__')\n",
    "\n",
    "import sys, os\n",
    "if os.path.abspath('.') not in sys.path: sys.path.append(os.path.abspath('.'))\n",
    "\n",
    "from pathlib import Path\n",
    "from glob import glob\n",
    "\n",
    "class text_color:\n",
    "    def __init__(self, *attrs): self.clrs = list(set(attrs))\n",
    "    def __ror__(self, obj): return f'\\33[{\";\".join(map(str, self.clrs))}m{str(obj)}\\33[0m'\n",
    "    @property\n",
    "    def bg(self): return text_color( next((c+70 for c in self.clrs if 30 <= c < 38), self.clrs[0]))\n",
    "\n",
    "bold, italic, underline, strike = [1,3,4,9]\n",
    "black,red,green,yellow,blue,magenta,cyan,white = [text_color(clr) for clr in range(30,38)]\n",
    "\n",
    "import inspect\n",
    "class cout:\n",
    "    def __ror__(self, obj): print(f'[{inspect.stack()[1].lineno}]'|green, obj)\n",
    "    def __call__(self, *args, **kwds): print(f'[{inspect.stack()[1].lineno}]'|green, *args, **kwds)\n",
    "out = cout()\n",
    "\n",
    "from dotenv import load_dotenv\n",
    "load_dotenv()\n",
    "\n",
    "jjkim_key = os.getenv(\"JINA_API_JJKIM\")\n",
    "obj76_key = os.getenv(\"JINA_API_OBJECTS76\")\n",
    "\n",
    "from rich import print as pprint\n",
    "from IPython.display import HTML, Markdown"
   ]
  },
  {
   "cell_type": "code",
   "execution_count": 28,
   "metadata": {},
   "outputs": [
    {
     "name": "stdout",
     "output_type": "stream",
     "text": [
      "\n",
      "{\n",
      "abcef\n",
      "}\n"
     ]
    }
   ],
   "source": [
    "text = \"\"\"\n",
    "{{\n",
    "abcef\n",
    "}}\"\"\"\n",
    "\n",
    "print(text.format(xxx=1234))"
   ]
  },
  {
   "cell_type": "code",
   "execution_count": null,
   "metadata": {},
   "outputs": [],
   "source": [
    "result = subprocess.run(['xdotool', 'search', '--name', '--class', 'microsoft-edge'],\n",
    "                                  capture_output=True, text=True)\n",
    "window_ids = result.stdout.strip().split('\\n')\n",
    "print(window_ids)\n",
    "window_ids = window_ids or []\n",
    "\n",
    "for i, window_id in enumerate(window_ids):\n",
    "    if not window_id: continue\n",
    "    # Activate and raise the window\n",
    "    subprocess.run(['xdotool', 'windowactivate', window_id], check=True)\n",
    "    subprocess.run(['xdotool', 'windowraise', window_id], check=True)\n",
    "    print(i, f\"Edge window activated (ID: {window_id})\")"
   ]
  },
  {
   "cell_type": "code",
   "execution_count": null,
   "metadata": {},
   "outputs": [],
   "source": [
    "\n",
    "import subprocess\n",
    "import time\n",
    "\n",
    "def get_edge_window():\n",
    "    \"\"\"Microsoft Edge 창을 찾고 활성화합니다.\"\"\"\n",
    "    try:\n",
    "        # Edge 프로세스 확인\n",
    "        result = subprocess.run(['pgrep', '-f', 'microsoft-edge'],\n",
    "                              capture_output=True, text=True)\n",
    "        if not result.stdout.strip():\n",
    "            print(\"Microsoft Edge가 실행되지 않았습니다.\")\n",
    "            return False\n",
    "\n",
    "        # Edge 창 ID 찾기\n",
    "        result = subprocess.run(['xdotool', 'search', '--name', '--class', 'microsoft-edge'],\n",
    "                              capture_output=True, text=True)\n",
    "        window_ids = result.stdout.strip().split('\\n')\n",
    "\n",
    "        if not window_ids or not window_ids[0]:\n",
    "            print(\"Edge 창을 찾을 수 없습니다.\")\n",
    "            return False\n",
    "\n",
    "        # 첫 번째 Edge 창 활성화\n",
    "        window_id = window_ids[0]\n",
    "        subprocess.run(['xdotool', 'windowactivate', window_id], check=True)\n",
    "        subprocess.run(['xdotool', 'windowraise', window_id], check=True)\n",
    "\n",
    "        print(f\"Edge 창 활성화됨 (ID: {window_id})\")\n",
    "        return True\n",
    "\n",
    "    except subprocess.CalledProcessError as e:\n",
    "        print(f\"창 활성화 실패: {e}\")\n",
    "        return False\n",
    "    except Exception as e:\n",
    "        print(f\"오류 발생: {e}\")\n",
    "        return False\n",
    "\n",
    "# Edge 창 활성화 실행\n",
    "get_edge_window()\n"
   ]
  },
  {
   "cell_type": "code",
   "execution_count": null,
   "metadata": {},
   "outputs": [],
   "source": []
  }
 ],
 "metadata": {
  "kernelspec": {
   "display_name": ".venv",
   "language": "python",
   "name": "python3"
  },
  "language_info": {
   "codemirror_mode": {
    "name": "ipython",
    "version": 3
   },
   "file_extension": ".py",
   "mimetype": "text/x-python",
   "name": "python",
   "nbconvert_exporter": "python",
   "pygments_lexer": "ipython3",
   "version": "3.13.3"
  }
 },
 "nbformat": 4,
 "nbformat_minor": 2
}
