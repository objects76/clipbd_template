{
 "cells": [
  {
   "cell_type": "code",
   "execution_count": 4,
   "metadata": {},
   "outputs": [],
   "source": [
    "%reload_ext autoreload\n",
    "%autoreload 2\n",
    "if '__file__' not in globals():\n",
    "    __file__, __name__ = globals()['__vsc_ipynb_file__'], '__ipynb__'\n",
    "    import types, sys; sys.modules['__ipynb__'] = types.ModuleType('__ipynb__')\n",
    "\n",
    "import sys, os\n",
    "if os.path.abspath('.') not in sys.path: sys.path.append(os.path.abspath('.'))\n",
    "\n",
    "from pathlib import Path\n",
    "from glob import glob\n",
    "\n",
    "class text_color:\n",
    "    def __init__(self, *attrs): self.clrs = list(set(attrs))\n",
    "    def __ror__(self, obj): return f'\\33[{\";\".join(map(str, self.clrs))}m{str(obj)}\\33[0m'\n",
    "    @property\n",
    "    def bg(self): return text_color( next((c+70 for c in self.clrs if 30 <= c < 38), self.clrs[0]))\n",
    "\n",
    "bold, italic, underline, strike = [1,3,4,9]\n",
    "black,red,green,yellow,blue,magenta,cyan,white = [text_color(clr) for clr in range(30,38)]\n",
    "\n",
    "import inspect\n",
    "class cout:\n",
    "    def __ror__(self, obj): print(f'[{inspect.stack()[1].lineno}]'|green, obj)\n",
    "    def __call__(self, *args, **kwds): print(f'[{inspect.stack()[1].lineno}]'|green, *args, **kwds)\n",
    "out = cout()\n",
    "\n",
    "from dotenv import load_dotenv\n",
    "load_dotenv()\n",
    "\n",
    "jjkim_key = os.getenv(\"JINA_API_JJKIM\")\n",
    "obj76_key = os.getenv(\"JINA_API_OBJECTS76\")\n",
    "\n",
    "from rich import print as pprint\n",
    "from IPython.display import HTML, Markdown\n",
    "from time import sleep"
   ]
  },
  {
   "cell_type": "code",
   "execution_count": 10,
   "metadata": {},
   "outputs": [
    {
     "data": {
      "text/plain": [
       "('Google Gemini - jjkim - Microsoft\\u200b Edge',\n",
       " '\"microsoft-edge\", \"Microsoft-edge\"')"
      ]
     },
     "execution_count": 10,
     "metadata": {},
     "output_type": "execute_result"
    }
   ],
   "source": [
    "from window_utils import active_window_information\n",
    "\n",
    "sleep(5)\n",
    "active_window_information()"
   ]
  },
  {
   "cell_type": "code",
   "execution_count": 7,
   "metadata": {},
   "outputs": [
    {
     "name": "stdout",
     "output_type": "stream",
     "text": [
      "Original: ChatGPT and 15 more pages - Personal - Microsoft​ Edge\n",
      "Decoded:  ChatGPT and 15 more pages - Personal - Microsoftâ Edge\n"
     ]
    }
   ],
   "source": [
    "unicode_str = \"ChatGPT and 15 more pages - Personal - Microsoft\\u200b Edge\"\n",
    "unicode_str = str(unicode_str)\n",
    "decoded_str = unicode_str.encode().decode('unicode_escape')\n",
    "print(f\"Original: {unicode_str}\")\n",
    "print(f\"Decoded:  {decoded_str}\")\n"
   ]
  },
  {
   "cell_type": "code",
   "execution_count": null,
   "metadata": {},
   "outputs": [],
   "source": [
    "import subprocess\n",
    "def get_url(window_id:str):\n",
    "    subprocess.run(['xdotool', 'key', '--window', window_id, 'ctrl+l','ctrl+c', \"Escape\"], check=True)\n",
    "    url_result = subprocess.run(['xclip', '-selection', 'clipboard', '-o'], capture_output=True, text=True, check=True)\n",
    "    url = url_result.stdout.strip()\n",
    "    return url\n",
    "\n",
    "time.sleep(5)\n",
    "get_url(get_active_window())"
   ]
  },
  {
   "cell_type": "code",
   "execution_count": null,
   "metadata": {},
   "outputs": [],
   "source": [
    "def wait_page_loaded(window_id:str, needle:str, timeout=2):\n",
    "    for _ in range(timeout*10):\n",
    "        result = subprocess.run(['xdotool', 'getwindowname', window_id], capture_output=True, text=True, check=True)\n",
    "        if needle in result.stdout.strip():\n",
    "            print('page loaded: ', result.stdout.strip())\n",
    "            time.sleep(0.2)\n",
    "            return True\n",
    "        time.sleep(0.1)\n",
    "    return False\n",
    "\n",
    "def get_html_text(window_id:str):\n",
    "    subprocess.run(['xdotool', 'key', '--window', window_id, 'ctrl+u'], check=True)\n",
    "    # time.sleep(1)\n",
    "    wait_page_loaded(window_id, \"view-source:\")\n",
    "    subprocess.run(['xdotool', 'key', '--window', window_id, 'ctrl+a','ctrl+c','ctrl+w'], check=True)\n",
    "    html_text = subprocess.run(['xclip', '-selection', 'clipboard', '-o'], capture_output=True, text=True, check=True)\n",
    "    return html_text.stdout.strip()\n",
    "\n",
    "time.sleep(5)\n",
    "print('start')\n",
    "get_html_text(get_active_window())"
   ]
  },
  {
   "cell_type": "code",
   "execution_count": null,
   "metadata": {},
   "outputs": [],
   "source": [
    "import time\n",
    "import subprocess\n",
    "\n",
    "def wait_page_loaded(needle, timeout=3):\n",
    "    cmds = \"xdotool search --name --class microsoft-edge\"\n",
    "\n",
    "    result = subprocess.run(cmds.split(), capture_output=True, text=True, timeout=timeout)\n",
    "    window_ids = [w for w in result.stdout.strip().split('\\n') if w]\n",
    "\n",
    "    for window_id in window_ids:\n",
    "        print('activate: ', window_id)\n",
    "        result = subprocess.run(['xdotool', 'windowactivate', window_id], capture_output=True, text=True, check=True, timeout=timeout)\n",
    "        if result.returncode == 0 and not result.stderr.strip():\n",
    "            print('windowactivate: ', result)\n",
    "\n",
    "            result = subprocess.run(['xdotool', 'getwindowname', window_id], capture_output=True, text=True, check=True, timeout=timeout)\n",
    "            if result.returncode == 0:\n",
    "                title = result.stdout.strip()\n",
    "                print('getwindowname: ', title)\n",
    "                if needle.lower() in title.lower():\n",
    "                    print('page loaded: ', title)\n",
    "                    return True\n",
    "    return False\n",
    "\n",
    "\n",
    "wait_page_loaded('chatgpt')\n"
   ]
  },
  {
   "cell_type": "code",
   "execution_count": null,
   "metadata": {},
   "outputs": [],
   "source": [
    "import subprocess\n",
    "import re\n",
    "\n",
    "\n",
    "def get_window_class(window_id):\n",
    "    cmd = [\"xprop\", \"-id\", window_id, \"WM_CLASS\"]\n",
    "    result = subprocess.run(cmd, stdout=subprocess.PIPE, text=True)\n",
    "    win_class = re.search(r\"WM_CLASS\\(STRING\\) = (.*)\", result.stdout)\n",
    "    return win_class.group(1) if win_class else None\n",
    "\n",
    "def get_active_window():\n",
    "    cmd = [\"xprop\", \"-root\", \"_NET_ACTIVE_WINDOW\"]\n",
    "    result = subprocess.run(cmd, stdout=subprocess.PIPE, text=True)\n",
    "    wnd_id = re.search(r\"window id # (0x[\\da-f]+)\", result.stdout)\n",
    "    if wnd_id:\n",
    "        window_id = wnd_id.group(1)\n",
    "        # get window title\n",
    "        title_cmd = [\"xprop\", \"-id\", window_id, \"WM_NAME\"]\n",
    "        title_result = subprocess.run(title_cmd, stdout=subprocess.PIPE, text=True)\n",
    "        title = re.search(r\"WM_NAME\\(STRING\\) = \\\"(.*)\\\"\", title_result.stdout)\n",
    "        # get window class\n",
    "        return title.group(1) if title else None, get_window_class(window_id)\n",
    "    return None, None\n",
    "\n",
    "time.sleep(5)\n",
    "title, win_class = get_active_window()\n",
    "print(\"Title:\", title)\n",
    "print(\"Class:\", win_class)\n"
   ]
  }
 ],
 "metadata": {
  "kernelspec": {
   "display_name": ".venv",
   "language": "python",
   "name": "python3"
  },
  "language_info": {
   "codemirror_mode": {
    "name": "ipython",
    "version": 3
   },
   "file_extension": ".py",
   "mimetype": "text/x-python",
   "name": "python",
   "nbconvert_exporter": "python",
   "pygments_lexer": "ipython3",
   "version": "3.13.3"
  }
 },
 "nbformat": 4,
 "nbformat_minor": 2
}
