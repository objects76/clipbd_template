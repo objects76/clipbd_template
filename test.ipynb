{
 "cells": [
  {
   "cell_type": "code",
   "execution_count": 17,
   "metadata": {},
   "outputs": [],
   "source": [
    "%reload_ext autoreload\n",
    "%autoreload 2\n",
    "if '__file__' not in globals():\n",
    "    __file__, __name__ = globals()['__vsc_ipynb_file__'], '__ipynb__'\n",
    "    import types, sys; sys.modules['__ipynb__'] = types.ModuleType('__ipynb__')\n",
    "\n",
    "import sys, os\n",
    "if os.path.abspath('.') not in sys.path: sys.path.append(os.path.abspath('.'))\n",
    "\n",
    "from pathlib import Path\n",
    "from glob import glob\n",
    "\n",
    "class text_color:\n",
    "    def __init__(self, *attrs): self.clrs = list(set(attrs))\n",
    "    def __ror__(self, obj): return f'\\33[{\";\".join(map(str, self.clrs))}m{str(obj)}\\33[0m'\n",
    "    @property\n",
    "    def bg(self): return text_color( next((c+70 for c in self.clrs if 30 <= c < 38), self.clrs[0]))\n",
    "\n",
    "bold, italic, underline, strike = [1,3,4,9]\n",
    "black,red,green,yellow,blue,magenta,cyan,white = [text_color(clr) for clr in range(30,38)]\n",
    "\n",
    "import inspect\n",
    "class cout:\n",
    "    def __ror__(self, obj): print(f'[{inspect.stack()[1].lineno}]'|green, obj)\n",
    "    def __call__(self, *args, **kwds): print(f'[{inspect.stack()[1].lineno}]'|green, *args, **kwds)\n",
    "out = cout()\n",
    "\n",
    "from dotenv import load_dotenv\n",
    "load_dotenv()\n",
    "\n",
    "jjkim_key = os.getenv(\"JINA_API_JJKIM\")\n",
    "obj76_key = os.getenv(\"JINA_API_OBJECTS76\")\n",
    "\n",
    "from rich import print as pprint\n",
    "from IPython.display import HTML, Markdown"
   ]
  },
  {
   "cell_type": "code",
   "execution_count": 11,
   "metadata": {},
   "outputs": [],
   "source": [
    "\n",
    "def get_html(url):\n",
    "    import requests\n",
    "    from urllib.parse import urlparse\n",
    "\n",
    "    parsed = urlparse(url)\n",
    "    if parsed.scheme in ['http', 'https']:\n",
    "        response = requests.get(url)\n",
    "        response.raise_for_status()\n",
    "        return response.text\n",
    "    elif parsed.scheme == 'file':\n",
    "        with open(parsed.path, 'r', encoding='utf-8') as f:\n",
    "            return f.read()\n",
    "    else:\n",
    "        raise ValueError(f\"지원하지 않는 URL 스키마: {parsed.scheme}\")"
   ]
  },
  {
   "cell_type": "code",
   "execution_count": null,
   "metadata": {},
   "outputs": [],
   "source": []
  }
 ],
 "metadata": {
  "kernelspec": {
   "display_name": ".venv",
   "language": "python",
   "name": "python3"
  },
  "language_info": {
   "codemirror_mode": {
    "name": "ipython",
    "version": 3
   },
   "file_extension": ".py",
   "mimetype": "text/x-python",
   "name": "python",
   "nbconvert_exporter": "python",
   "pygments_lexer": "ipython3",
   "version": "3.13.3"
  }
 },
 "nbformat": 4,
 "nbformat_minor": 2
}
